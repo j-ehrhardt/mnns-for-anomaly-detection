{
 "cells": [
  {
   "cell_type": "markdown",
   "id": "b1ed92e23f223778",
   "metadata": {
    "collapsed": false
   },
   "source": [
    "# Evaluation\n",
    "\n",
    "This notebook contains all code to reproduce the results of our paper: \"Using Modular Neural Networks for Anomaly Detection in Cyber-Physical Systems\". "
   ]
  },
  {
   "cell_type": "code",
   "execution_count": 1,
   "id": "a5aed8373027f638",
   "metadata": {
    "collapsed": false,
    "ExecuteTime": {
     "end_time": "2023-12-06T12:17:46.852045377Z",
     "start_time": "2023-12-06T12:17:46.258825725Z"
    }
   },
   "outputs": [],
   "source": [
    "from eval_functions import *"
   ]
  },
  {
   "cell_type": "code",
   "execution_count": 3,
   "id": "8248a8ea4aae6b4b",
   "metadata": {
    "collapsed": false,
    "ExecuteTime": {
     "end_time": "2023-12-06T12:17:54.239126264Z",
     "start_time": "2023-12-06T12:17:54.159031663Z"
    }
   },
   "outputs": [],
   "source": [
    "MODEL_LIST = [\"MonolithAE\", \"MonolithVAE\", \"Modular0AE\", \"Modular0VAE\", \"Modular1AE\", \"Modular1VAE\", \"Modular2AE\", \"Modular2VAE\"]\n",
    "CASES = [\"normal\", \"weight\", \"drop\", \"stop\", \"out\", \"push\", \"speed\", \"wrench\"]\n",
    "DS_LIST = [\"_e\", \"_p\"]\n",
    "EVAL_PATH = \"../logs/repl_studies/logs/train/\"  # \"../logs_test/logs/\" \n",
    "\n",
    "RESULTS = ImportResults(path=EVAL_PATH, model_list=MODEL_LIST, ds_list=DS_LIST, anomaly_list=CASES)"
   ]
  },
  {
   "cell_type": "markdown",
   "id": "7fb689f45e4e85d8",
   "metadata": {
    "collapsed": false
   },
   "source": [
    "## Learning Individual Subsystems with MNNs\n",
    "\n",
    "Evaluating for H1: Comparing the performance of the individual models for learning individual subsystems. "
   ]
  },
  {
   "cell_type": "code",
   "execution_count": 4,
   "outputs": [
    {
     "data": {
      "text/plain": "               $ds_e$  $ds_e var$    $ds_m$  $ds_m var$\nMonolithAE   0.214511    0.055218  0.912944    0.234463\nMonolithVAE  0.175472    0.049497  3.680256    2.855295\nModular0AE   0.197777    0.048349  1.473713    0.188529\nModular0VAE  0.208447    0.051424  1.854902    0.291559\nModular1AE   0.450262    0.062336  1.813963    0.240987\nModular1VAE  0.560363    0.030900  2.151333    0.248908\nModular2AE   0.564510    0.030295  2.157846    0.247122\nModular2VAE  0.561726    0.031893  4.484355    3.229395",
      "text/html": "<div>\n<style scoped>\n    .dataframe tbody tr th:only-of-type {\n        vertical-align: middle;\n    }\n\n    .dataframe tbody tr th {\n        vertical-align: top;\n    }\n\n    .dataframe thead th {\n        text-align: right;\n    }\n</style>\n<table border=\"1\" class=\"dataframe\">\n  <thead>\n    <tr style=\"text-align: right;\">\n      <th></th>\n      <th>$ds_e$</th>\n      <th>$ds_e var$</th>\n      <th>$ds_m$</th>\n      <th>$ds_m var$</th>\n    </tr>\n  </thead>\n  <tbody>\n    <tr>\n      <th>MonolithAE</th>\n      <td>0.214511</td>\n      <td>0.055218</td>\n      <td>0.912944</td>\n      <td>0.234463</td>\n    </tr>\n    <tr>\n      <th>MonolithVAE</th>\n      <td>0.175472</td>\n      <td>0.049497</td>\n      <td>3.680256</td>\n      <td>2.855295</td>\n    </tr>\n    <tr>\n      <th>Modular0AE</th>\n      <td>0.197777</td>\n      <td>0.048349</td>\n      <td>1.473713</td>\n      <td>0.188529</td>\n    </tr>\n    <tr>\n      <th>Modular0VAE</th>\n      <td>0.208447</td>\n      <td>0.051424</td>\n      <td>1.854902</td>\n      <td>0.291559</td>\n    </tr>\n    <tr>\n      <th>Modular1AE</th>\n      <td>0.450262</td>\n      <td>0.062336</td>\n      <td>1.813963</td>\n      <td>0.240987</td>\n    </tr>\n    <tr>\n      <th>Modular1VAE</th>\n      <td>0.560363</td>\n      <td>0.030900</td>\n      <td>2.151333</td>\n      <td>0.248908</td>\n    </tr>\n    <tr>\n      <th>Modular2AE</th>\n      <td>0.564510</td>\n      <td>0.030295</td>\n      <td>2.157846</td>\n      <td>0.247122</td>\n    </tr>\n    <tr>\n      <th>Modular2VAE</th>\n      <td>0.561726</td>\n      <td>0.031893</td>\n      <td>4.484355</td>\n      <td>3.229395</td>\n    </tr>\n  </tbody>\n</table>\n</div>"
     },
     "execution_count": 4,
     "metadata": {},
     "output_type": "execute_result"
    }
   ],
   "source": [
    "h1_res = H1(results_dict=RESULTS.glob_res, model_list=MODEL_LIST, ds_list=DS_LIST)\n",
    "h1_res.df_files"
   ],
   "metadata": {
    "collapsed": false,
    "ExecuteTime": {
     "end_time": "2023-12-06T12:17:55.835023055Z",
     "start_time": "2023-12-06T12:17:55.716152347Z"
    }
   },
   "id": "9dac157f66663a90"
  },
  {
   "cell_type": "code",
   "execution_count": 5,
   "outputs": [
    {
     "data": {
      "text/plain": "             $ds_e j_0$ mean  $ds_e j_0$ var  $ds_e j_1$ mean  $ds_e j_1$ var  \\\nMonolithAE          0.269425        0.004687         0.466757        0.021329   \nMonolithVAE         0.174473        0.002447         0.389273        0.018555   \nModular0AE          0.183397        0.001779         0.469568        0.019901   \nModular0VAE         0.193628        0.002247         0.445356        0.018561   \nModular1AE          0.914755        0.016515         0.781814        0.070056   \nModular1VAE         0.914894        0.016454         1.282730        0.036288   \nModular2AE          0.917545        0.014889         1.284305        0.034714   \nModular2VAE         0.915043        0.016282         1.283717        0.035663   \n\n             $ds_e j_2$ mean  $ds_e j_2$ var  $ds_e j_3$ mean  $ds_e j_3$ var  \\\nMonolithAE          0.339451        0.012816         0.148676        0.000625   \nMonolithVAE         0.273869        0.009825         0.144983        0.000602   \nModular0AE          0.341470        0.010841         0.140463        0.000429   \nModular0VAE         0.326942        0.010872         0.155010        0.000639   \nModular1AE          0.600637        0.053720         0.293179        0.001097   \nModular1VAE         0.830485        0.025913         0.293580        0.001118   \nModular2AE          0.834152        0.029870         0.300411        0.001410   \nModular2VAE         0.833421        0.027245         0.295195        0.001316   \n\n             $ds_e j_4$ mean  $ds_e j_4$ var  ...  $ds_m j_1$ mean  \\\nMonolithAE          0.078152        0.000686  ...         0.075370   \nMonolithVAE         0.068317        0.000525  ...         0.286038   \nModular0AE          0.076827        0.000657  ...         0.061044   \nModular0VAE         0.114391        0.001238  ...         0.058071   \nModular1AE          0.166989        0.000308  ...         0.062986   \nModular1VAE         0.167074        0.000305  ...         0.058171   \nModular2AE          0.170989        0.000355  ...         0.063295   \nModular2VAE         0.167112        0.000311  ...         0.105124   \n\n             $ds_m j_1$ var  $ds_m j_2$ mean  $ds_m j_2$ var  $ds_m j_3$ mean  \\\nMonolithAE         0.000946         0.223860        0.009418         1.561273   \nMonolithVAE        0.162172         0.926512        1.219063         7.093581   \nModular0AE         0.000070         0.177618        0.000822         2.490182   \nModular0VAE        0.000072         0.170930        0.000639         2.713122   \nModular1AE         0.000068         0.188092        0.001057         2.619641   \nModular1VAE        0.000072         0.172485        0.000720         2.738185   \nModular2AE         0.000068         0.183940        0.001246         2.764064   \nModular2VAE        0.004304         1.073716        1.637865         9.001729   \n\n             $ds_m j_3$ var  $ds_m j_4$ mean  $ds_m j_4$ var  $ds_m j_5$ mean  \\\nMonolithAE         0.199818         2.860238        0.607343         0.678652   \nMonolithVAE       52.333701        11.692241       65.701911         1.825662   \nModular0AE         0.111688         4.299840        1.218102         1.780725   \nModular0VAE        0.071353         7.524086        3.135488         0.630339   \nModular1AE         0.132011         6.148376        1.716287         1.780226   \nModular1VAE        0.054959         8.122510        1.606175         1.780852   \nModular2AE         0.052669         8.122096        1.525238         1.780795   \nModular2VAE       76.013621        14.885125       88.867916         1.808753   \n\n             $ds_m j_5$ var  \nMonolithAE         0.046400  \nMonolithVAE        0.070772  \nModular0AE         0.062826  \nModular0VAE        0.058156  \nModular1AE         0.062878  \nModular1VAE        0.062030  \nModular2AE         0.062845  \nModular2VAE        0.059870  \n\n[8 rows x 24 columns]",
      "text/html": "<div>\n<style scoped>\n    .dataframe tbody tr th:only-of-type {\n        vertical-align: middle;\n    }\n\n    .dataframe tbody tr th {\n        vertical-align: top;\n    }\n\n    .dataframe thead th {\n        text-align: right;\n    }\n</style>\n<table border=\"1\" class=\"dataframe\">\n  <thead>\n    <tr style=\"text-align: right;\">\n      <th></th>\n      <th>$ds_e j_0$ mean</th>\n      <th>$ds_e j_0$ var</th>\n      <th>$ds_e j_1$ mean</th>\n      <th>$ds_e j_1$ var</th>\n      <th>$ds_e j_2$ mean</th>\n      <th>$ds_e j_2$ var</th>\n      <th>$ds_e j_3$ mean</th>\n      <th>$ds_e j_3$ var</th>\n      <th>$ds_e j_4$ mean</th>\n      <th>$ds_e j_4$ var</th>\n      <th>...</th>\n      <th>$ds_m j_1$ mean</th>\n      <th>$ds_m j_1$ var</th>\n      <th>$ds_m j_2$ mean</th>\n      <th>$ds_m j_2$ var</th>\n      <th>$ds_m j_3$ mean</th>\n      <th>$ds_m j_3$ var</th>\n      <th>$ds_m j_4$ mean</th>\n      <th>$ds_m j_4$ var</th>\n      <th>$ds_m j_5$ mean</th>\n      <th>$ds_m j_5$ var</th>\n    </tr>\n  </thead>\n  <tbody>\n    <tr>\n      <th>MonolithAE</th>\n      <td>0.269425</td>\n      <td>0.004687</td>\n      <td>0.466757</td>\n      <td>0.021329</td>\n      <td>0.339451</td>\n      <td>0.012816</td>\n      <td>0.148676</td>\n      <td>0.000625</td>\n      <td>0.078152</td>\n      <td>0.000686</td>\n      <td>...</td>\n      <td>0.075370</td>\n      <td>0.000946</td>\n      <td>0.223860</td>\n      <td>0.009418</td>\n      <td>1.561273</td>\n      <td>0.199818</td>\n      <td>2.860238</td>\n      <td>0.607343</td>\n      <td>0.678652</td>\n      <td>0.046400</td>\n    </tr>\n    <tr>\n      <th>MonolithVAE</th>\n      <td>0.174473</td>\n      <td>0.002447</td>\n      <td>0.389273</td>\n      <td>0.018555</td>\n      <td>0.273869</td>\n      <td>0.009825</td>\n      <td>0.144983</td>\n      <td>0.000602</td>\n      <td>0.068317</td>\n      <td>0.000525</td>\n      <td>...</td>\n      <td>0.286038</td>\n      <td>0.162172</td>\n      <td>0.926512</td>\n      <td>1.219063</td>\n      <td>7.093581</td>\n      <td>52.333701</td>\n      <td>11.692241</td>\n      <td>65.701911</td>\n      <td>1.825662</td>\n      <td>0.070772</td>\n    </tr>\n    <tr>\n      <th>Modular0AE</th>\n      <td>0.183397</td>\n      <td>0.001779</td>\n      <td>0.469568</td>\n      <td>0.019901</td>\n      <td>0.341470</td>\n      <td>0.010841</td>\n      <td>0.140463</td>\n      <td>0.000429</td>\n      <td>0.076827</td>\n      <td>0.000657</td>\n      <td>...</td>\n      <td>0.061044</td>\n      <td>0.000070</td>\n      <td>0.177618</td>\n      <td>0.000822</td>\n      <td>2.490182</td>\n      <td>0.111688</td>\n      <td>4.299840</td>\n      <td>1.218102</td>\n      <td>1.780725</td>\n      <td>0.062826</td>\n    </tr>\n    <tr>\n      <th>Modular0VAE</th>\n      <td>0.193628</td>\n      <td>0.002247</td>\n      <td>0.445356</td>\n      <td>0.018561</td>\n      <td>0.326942</td>\n      <td>0.010872</td>\n      <td>0.155010</td>\n      <td>0.000639</td>\n      <td>0.114391</td>\n      <td>0.001238</td>\n      <td>...</td>\n      <td>0.058071</td>\n      <td>0.000072</td>\n      <td>0.170930</td>\n      <td>0.000639</td>\n      <td>2.713122</td>\n      <td>0.071353</td>\n      <td>7.524086</td>\n      <td>3.135488</td>\n      <td>0.630339</td>\n      <td>0.058156</td>\n    </tr>\n    <tr>\n      <th>Modular1AE</th>\n      <td>0.914755</td>\n      <td>0.016515</td>\n      <td>0.781814</td>\n      <td>0.070056</td>\n      <td>0.600637</td>\n      <td>0.053720</td>\n      <td>0.293179</td>\n      <td>0.001097</td>\n      <td>0.166989</td>\n      <td>0.000308</td>\n      <td>...</td>\n      <td>0.062986</td>\n      <td>0.000068</td>\n      <td>0.188092</td>\n      <td>0.001057</td>\n      <td>2.619641</td>\n      <td>0.132011</td>\n      <td>6.148376</td>\n      <td>1.716287</td>\n      <td>1.780226</td>\n      <td>0.062878</td>\n    </tr>\n    <tr>\n      <th>Modular1VAE</th>\n      <td>0.914894</td>\n      <td>0.016454</td>\n      <td>1.282730</td>\n      <td>0.036288</td>\n      <td>0.830485</td>\n      <td>0.025913</td>\n      <td>0.293580</td>\n      <td>0.001118</td>\n      <td>0.167074</td>\n      <td>0.000305</td>\n      <td>...</td>\n      <td>0.058171</td>\n      <td>0.000072</td>\n      <td>0.172485</td>\n      <td>0.000720</td>\n      <td>2.738185</td>\n      <td>0.054959</td>\n      <td>8.122510</td>\n      <td>1.606175</td>\n      <td>1.780852</td>\n      <td>0.062030</td>\n    </tr>\n    <tr>\n      <th>Modular2AE</th>\n      <td>0.917545</td>\n      <td>0.014889</td>\n      <td>1.284305</td>\n      <td>0.034714</td>\n      <td>0.834152</td>\n      <td>0.029870</td>\n      <td>0.300411</td>\n      <td>0.001410</td>\n      <td>0.170989</td>\n      <td>0.000355</td>\n      <td>...</td>\n      <td>0.063295</td>\n      <td>0.000068</td>\n      <td>0.183940</td>\n      <td>0.001246</td>\n      <td>2.764064</td>\n      <td>0.052669</td>\n      <td>8.122096</td>\n      <td>1.525238</td>\n      <td>1.780795</td>\n      <td>0.062845</td>\n    </tr>\n    <tr>\n      <th>Modular2VAE</th>\n      <td>0.915043</td>\n      <td>0.016282</td>\n      <td>1.283717</td>\n      <td>0.035663</td>\n      <td>0.833421</td>\n      <td>0.027245</td>\n      <td>0.295195</td>\n      <td>0.001316</td>\n      <td>0.167112</td>\n      <td>0.000311</td>\n      <td>...</td>\n      <td>0.105124</td>\n      <td>0.004304</td>\n      <td>1.073716</td>\n      <td>1.637865</td>\n      <td>9.001729</td>\n      <td>76.013621</td>\n      <td>14.885125</td>\n      <td>88.867916</td>\n      <td>1.808753</td>\n      <td>0.059870</td>\n    </tr>\n  </tbody>\n</table>\n<p>8 rows × 24 columns</p>\n</div>"
     },
     "execution_count": 5,
     "metadata": {},
     "output_type": "execute_result"
    }
   ],
   "source": [
    "h1_res.df_joints"
   ],
   "metadata": {
    "collapsed": false,
    "ExecuteTime": {
     "end_time": "2023-12-06T12:17:57.262998666Z",
     "start_time": "2023-12-06T12:17:57.248998289Z"
    }
   },
   "id": "8deef0db7524f25b"
  },
  {
   "cell_type": "markdown",
   "id": "1a8ad43941afa064",
   "metadata": {
    "collapsed": false
   },
   "source": [
    "## Detecting Anomalies with MNNs\n",
    "\n",
    "Evaluating the F1 for classifying anomalies from the testset and individual anomaly cases. The threshold for detecting anomalies is $2 \\sigma$. "
   ]
  },
  {
   "cell_type": "code",
   "execution_count": 6,
   "outputs": [
    {
     "data": {
      "text/plain": "             sensitivity_e  specificity_e  f1_score_e  sensitivity_m  \\\nMonolithAE        0.870968       0.777778    0.818182       0.835821   \nMonolithVAE       0.629213       0.953488    0.704403       0.894737   \nModular0AE        0.890909       0.734177    0.784000       0.925926   \nModular0VAE       0.890909       0.734177    0.784000       0.862069   \nModular1AE        0.847458       0.733333    0.775194       0.588235   \nModular1VAE       0.857143       0.630435    0.642857       0.909091   \nModular2AE        0.925000       0.648936    0.672727       0.925926   \nModular2VAE       0.554054       0.908228    0.569444       0.833333   \n\n             specificity_m  f1_score_m  \nMonolithAE        0.791045    0.817518  \nMonolithVAE       0.753247    0.803150  \nModular0AE        0.750000    0.806452  \nModular0VAE       0.736842    0.781250  \nModular1AE        0.934426    0.645161  \nModular1VAE       0.746835    0.800000  \nModular2AE        0.750000    0.806452  \nModular2VAE       0.779412    0.808824  ",
      "text/html": "<div>\n<style scoped>\n    .dataframe tbody tr th:only-of-type {\n        vertical-align: middle;\n    }\n\n    .dataframe tbody tr th {\n        vertical-align: top;\n    }\n\n    .dataframe thead th {\n        text-align: right;\n    }\n</style>\n<table border=\"1\" class=\"dataframe\">\n  <thead>\n    <tr style=\"text-align: right;\">\n      <th></th>\n      <th>sensitivity_e</th>\n      <th>specificity_e</th>\n      <th>f1_score_e</th>\n      <th>sensitivity_m</th>\n      <th>specificity_m</th>\n      <th>f1_score_m</th>\n    </tr>\n  </thead>\n  <tbody>\n    <tr>\n      <th>MonolithAE</th>\n      <td>0.870968</td>\n      <td>0.777778</td>\n      <td>0.818182</td>\n      <td>0.835821</td>\n      <td>0.791045</td>\n      <td>0.817518</td>\n    </tr>\n    <tr>\n      <th>MonolithVAE</th>\n      <td>0.629213</td>\n      <td>0.953488</td>\n      <td>0.704403</td>\n      <td>0.894737</td>\n      <td>0.753247</td>\n      <td>0.803150</td>\n    </tr>\n    <tr>\n      <th>Modular0AE</th>\n      <td>0.890909</td>\n      <td>0.734177</td>\n      <td>0.784000</td>\n      <td>0.925926</td>\n      <td>0.750000</td>\n      <td>0.806452</td>\n    </tr>\n    <tr>\n      <th>Modular0VAE</th>\n      <td>0.890909</td>\n      <td>0.734177</td>\n      <td>0.784000</td>\n      <td>0.862069</td>\n      <td>0.736842</td>\n      <td>0.781250</td>\n    </tr>\n    <tr>\n      <th>Modular1AE</th>\n      <td>0.847458</td>\n      <td>0.733333</td>\n      <td>0.775194</td>\n      <td>0.588235</td>\n      <td>0.934426</td>\n      <td>0.645161</td>\n    </tr>\n    <tr>\n      <th>Modular1VAE</th>\n      <td>0.857143</td>\n      <td>0.630435</td>\n      <td>0.642857</td>\n      <td>0.909091</td>\n      <td>0.746835</td>\n      <td>0.800000</td>\n    </tr>\n    <tr>\n      <th>Modular2AE</th>\n      <td>0.925000</td>\n      <td>0.648936</td>\n      <td>0.672727</td>\n      <td>0.925926</td>\n      <td>0.750000</td>\n      <td>0.806452</td>\n    </tr>\n    <tr>\n      <th>Modular2VAE</th>\n      <td>0.554054</td>\n      <td>0.908228</td>\n      <td>0.569444</td>\n      <td>0.833333</td>\n      <td>0.779412</td>\n      <td>0.808824</td>\n    </tr>\n  </tbody>\n</table>\n</div>"
     },
     "execution_count": 6,
     "metadata": {},
     "output_type": "execute_result"
    }
   ],
   "source": [
    "h2_res = H2(results_dict=RESULTS.glob_res, model_list=MODEL_LIST, ds_list=DS_LIST, anomaly_list=CASES)\n",
    "\n",
    "h2_res.df_files"
   ],
   "metadata": {
    "collapsed": false,
    "ExecuteTime": {
     "end_time": "2023-12-06T12:17:59.129093838Z",
     "start_time": "2023-12-06T12:17:59.095713049Z"
    }
   },
   "id": "e56494d77faafac0"
  },
  {
   "cell_type": "markdown",
   "id": "ecbacda5be22344",
   "metadata": {
    "collapsed": false
   },
   "source": [
    " ## Allocating Anomaly root causes with MNNs\n",
    "\n",
    "Evaluating the ability of detecting individual anomalies, and the root cause anomaly. "
   ]
  },
  {
   "cell_type": "code",
   "execution_count": 7,
   "outputs": [
    {
     "data": {
      "text/plain": "             j_0_e  j_1_e  j_2_e  j_3_e  j_4_e  j_5_e  j_0_p  j_1_p  j_2_p  \\\nMonolithAE     0.7    0.9    1.0    0.3    0.2    0.7    0.8    0.8    0.9   \nMonolithVAE    1.0    1.0    1.0    0.1    0.0    0.0    1.0    0.2    0.6   \nModular0AE     0.2    0.9    0.7    0.3    0.2    1.0    0.5    0.0    0.0   \nModular0VAE    0.3    0.9    0.9    0.3    0.5    1.0    0.5    0.0    0.0   \nModular1AE     0.0    1.0    0.9    1.0    0.5    0.9    0.2    0.0    0.2   \nModular1VAE    0.0    0.9    1.0    1.0    0.5    0.9    0.4    0.0    0.0   \nModular2AE     0.0    0.9    0.9    1.0    0.9    1.0    0.4    0.0    0.0   \nModular2VAE    0.0    0.9    0.9    1.0    0.3    0.9    0.5    0.0    0.3   \n\n             j_3_p  j_4_p  j_5_p  \nMonolithAE     0.2    0.0    0.0  \nMonolithVAE    0.4    0.0    1.0  \nModular0AE     0.4    0.0    1.0  \nModular0VAE    0.4    0.0    0.0  \nModular1AE     1.0    0.0    1.0  \nModular1VAE    0.6    0.0    1.0  \nModular2AE     1.0    0.0    1.0  \nModular2VAE    0.0    0.0    1.0  ",
      "text/html": "<div>\n<style scoped>\n    .dataframe tbody tr th:only-of-type {\n        vertical-align: middle;\n    }\n\n    .dataframe tbody tr th {\n        vertical-align: top;\n    }\n\n    .dataframe thead th {\n        text-align: right;\n    }\n</style>\n<table border=\"1\" class=\"dataframe\">\n  <thead>\n    <tr style=\"text-align: right;\">\n      <th></th>\n      <th>j_0_e</th>\n      <th>j_1_e</th>\n      <th>j_2_e</th>\n      <th>j_3_e</th>\n      <th>j_4_e</th>\n      <th>j_5_e</th>\n      <th>j_0_p</th>\n      <th>j_1_p</th>\n      <th>j_2_p</th>\n      <th>j_3_p</th>\n      <th>j_4_p</th>\n      <th>j_5_p</th>\n    </tr>\n  </thead>\n  <tbody>\n    <tr>\n      <th>MonolithAE</th>\n      <td>0.7</td>\n      <td>0.9</td>\n      <td>1.0</td>\n      <td>0.3</td>\n      <td>0.2</td>\n      <td>0.7</td>\n      <td>0.8</td>\n      <td>0.8</td>\n      <td>0.9</td>\n      <td>0.2</td>\n      <td>0.0</td>\n      <td>0.0</td>\n    </tr>\n    <tr>\n      <th>MonolithVAE</th>\n      <td>1.0</td>\n      <td>1.0</td>\n      <td>1.0</td>\n      <td>0.1</td>\n      <td>0.0</td>\n      <td>0.0</td>\n      <td>1.0</td>\n      <td>0.2</td>\n      <td>0.6</td>\n      <td>0.4</td>\n      <td>0.0</td>\n      <td>1.0</td>\n    </tr>\n    <tr>\n      <th>Modular0AE</th>\n      <td>0.2</td>\n      <td>0.9</td>\n      <td>0.7</td>\n      <td>0.3</td>\n      <td>0.2</td>\n      <td>1.0</td>\n      <td>0.5</td>\n      <td>0.0</td>\n      <td>0.0</td>\n      <td>0.4</td>\n      <td>0.0</td>\n      <td>1.0</td>\n    </tr>\n    <tr>\n      <th>Modular0VAE</th>\n      <td>0.3</td>\n      <td>0.9</td>\n      <td>0.9</td>\n      <td>0.3</td>\n      <td>0.5</td>\n      <td>1.0</td>\n      <td>0.5</td>\n      <td>0.0</td>\n      <td>0.0</td>\n      <td>0.4</td>\n      <td>0.0</td>\n      <td>0.0</td>\n    </tr>\n    <tr>\n      <th>Modular1AE</th>\n      <td>0.0</td>\n      <td>1.0</td>\n      <td>0.9</td>\n      <td>1.0</td>\n      <td>0.5</td>\n      <td>0.9</td>\n      <td>0.2</td>\n      <td>0.0</td>\n      <td>0.2</td>\n      <td>1.0</td>\n      <td>0.0</td>\n      <td>1.0</td>\n    </tr>\n    <tr>\n      <th>Modular1VAE</th>\n      <td>0.0</td>\n      <td>0.9</td>\n      <td>1.0</td>\n      <td>1.0</td>\n      <td>0.5</td>\n      <td>0.9</td>\n      <td>0.4</td>\n      <td>0.0</td>\n      <td>0.0</td>\n      <td>0.6</td>\n      <td>0.0</td>\n      <td>1.0</td>\n    </tr>\n    <tr>\n      <th>Modular2AE</th>\n      <td>0.0</td>\n      <td>0.9</td>\n      <td>0.9</td>\n      <td>1.0</td>\n      <td>0.9</td>\n      <td>1.0</td>\n      <td>0.4</td>\n      <td>0.0</td>\n      <td>0.0</td>\n      <td>1.0</td>\n      <td>0.0</td>\n      <td>1.0</td>\n    </tr>\n    <tr>\n      <th>Modular2VAE</th>\n      <td>0.0</td>\n      <td>0.9</td>\n      <td>0.9</td>\n      <td>1.0</td>\n      <td>0.3</td>\n      <td>0.9</td>\n      <td>0.5</td>\n      <td>0.0</td>\n      <td>0.3</td>\n      <td>0.0</td>\n      <td>0.0</td>\n      <td>1.0</td>\n    </tr>\n  </tbody>\n</table>\n</div>"
     },
     "execution_count": 7,
     "metadata": {},
     "output_type": "execute_result"
    }
   ],
   "source": [
    "h3_res = H3(results_dict=RESULTS.glob_res, model_list=MODEL_LIST, ds_list=DS_LIST, anomaly_list=CASES)\n",
    "\n",
    "h3_res.df"
   ],
   "metadata": {
    "collapsed": false,
    "ExecuteTime": {
     "end_time": "2023-12-06T12:18:01.331853038Z",
     "start_time": "2023-12-06T12:18:01.244963677Z"
    }
   },
   "id": "b75e32510cfe5fdd"
  },
  {
   "cell_type": "code",
   "execution_count": null,
   "outputs": [],
   "source": [],
   "metadata": {
    "collapsed": false
   },
   "id": "4e34a0b3bbd07903"
  }
 ],
 "metadata": {
  "kernelspec": {
   "display_name": "Python 3 (ipykernel)",
   "language": "python",
   "name": "python3"
  },
  "language_info": {
   "codemirror_mode": {
    "name": "ipython",
    "version": 3
   },
   "file_extension": ".py",
   "mimetype": "text/x-python",
   "name": "python",
   "nbconvert_exporter": "python",
   "pygments_lexer": "ipython3",
   "version": "3.11.5"
  }
 },
 "nbformat": 4,
 "nbformat_minor": 5
}
