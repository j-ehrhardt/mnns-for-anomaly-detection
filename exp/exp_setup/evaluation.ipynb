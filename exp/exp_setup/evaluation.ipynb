{
 "cells": [
  {
   "cell_type": "markdown",
   "id": "b1ed92e23f223778",
   "metadata": {
    "collapsed": false,
    "jupyter": {
     "outputs_hidden": false
    }
   },
   "source": [
    "# Evaluation\n",
    "\n",
    "This notebook contains all code to reproduce the results of our paper: \"Using Modular Neural Networks for Anomaly Detection in Cyber-Physical Systems\". "
   ]
  },
  {
   "cell_type": "code",
   "id": "a5aed8373027f638",
   "metadata": {
    "collapsed": false,
    "jupyter": {
     "outputs_hidden": false
    }
   },
   "source": [
    "from eval_functions import *\n",
    "\n"
   ],
   "outputs": [],
   "execution_count": null
  },
  {
   "cell_type": "code",
   "id": "8248a8ea4aae6b4b",
   "metadata": {
    "collapsed": false,
    "jupyter": {
     "outputs_hidden": false
    },
    "scrolled": true
   },
   "source": [
    "MODEL_LIST = [\"MonolithAE\", \"MonolithVAE\", \"Modular0AE\", \"Modular0VAE\", \"Modular1AE\", \"Modular1VAE\", \"Modular2AE\",  \"Modular2VAE\", \"Modular3AE\", \"Modular3VAE\"]\n",
    "CASES = [\"normal\", \"weight\", \"drop\", \"stop\", \"out\", \"push\", \"speed\", \"wrench\"]\n",
    "EVAL_PATH = \"../logs/repl_studies/logs/train/\"\n",
    "\n",
    "RESULTS = ImportResults(path=EVAL_PATH, model_list=MODEL_LIST, anomaly_list=CASES)"
   ],
   "outputs": [],
   "execution_count": null
  },
  {
   "cell_type": "markdown",
   "id": "7fb689f45e4e85d8",
   "metadata": {
    "collapsed": false,
    "jupyter": {
     "outputs_hidden": false
    }
   },
   "source": [
    "## H1 Learning Individual Subsystems with MNNs\n",
    "\n",
    "Evaluating for H1: Comparing the performance of the individual models for learning individual subsystems. "
   ]
  },
  {
   "cell_type": "code",
   "id": "9dac157f66663a90",
   "metadata": {
    "collapsed": false,
    "jupyter": {
     "outputs_hidden": false
    }
   },
   "source": [
    "h1_res = H1(results_dict=RESULTS.glob_res)"
   ],
   "outputs": [],
   "execution_count": null
  },
  {
   "cell_type": "code",
   "id": "8deef0db7524f25b",
   "metadata": {
    "collapsed": false,
    "jupyter": {
     "outputs_hidden": false
    }
   },
   "source": [
    "df_h1 = h1_res.df_joints"
   ],
   "outputs": [],
   "execution_count": null
  },
  {
   "cell_type": "code",
   "id": "a1eeffc1-f440-43b2-908a-5bbf0ad6c508",
   "metadata": {
    "scrolled": true
   },
   "source": [
    "# arrange the results for the paper: \n",
    "def arrange_df_h1(df_h1, model_list):\n",
    "    df_h1 = df_h1.transpose()\n",
    "\n",
    "    order = [col for col in model_list if col in df_h1.columns]\n",
    "    df_h1 = df_h1[order]\n",
    "    \n",
    "    df1 = df_h1.iloc[::2].reset_index(drop=True)\n",
    "    df2 = df_h1.iloc[1::2].reset_index(drop=True)\n",
    "    \n",
    "    \n",
    "    # creat new df for merge\n",
    "    df_h1_joints = pd.DataFrame(index=df1.index)\n",
    "    \n",
    "    for i, col in enumerate(df1.columns):\n",
    "        df_h1_joints[f\"{col} mean\"] = df1[col]\n",
    "        if i < len(df2.columns):\n",
    "            df_h1_joints[f\"{col} var\"] = df2.iloc[:, i]\n",
    "    return df_h1_joints \n",
    "\n",
    "df_h1_joints = arrange_df_h1(df_h1, MODEL_LIST)\n",
    "\n",
    "tab_df_h1_joints = make_latex_table(df_h1_joints, decimals=3)\n",
    "print(tab_df_h1_joints)"
   ],
   "outputs": [],
   "execution_count": null
  },
  {
   "cell_type": "markdown",
   "id": "1a8ad43941afa064",
   "metadata": {
    "collapsed": false,
    "jupyter": {
     "outputs_hidden": false
    }
   },
   "source": [
    "## H2 Detecting Anomalies Globally with MNNs\n",
    "\n",
    "Evaluating the F1 for classifying anomalies from the testset and individual anomaly cases. The threshold for detecting anomalies is $2 \\sigma$. "
   ]
  },
  {
   "cell_type": "code",
   "id": "e56494d77faafac0",
   "metadata": {
    "collapsed": false,
    "jupyter": {
     "outputs_hidden": false
    },
    "scrolled": true
   },
   "source": [
    "h2_res = H2(results_dict=RESULTS.glob_res, anomaly_list=CASES)\n",
    "\n",
    "h2_res.df_model"
   ],
   "outputs": [],
   "execution_count": null
  },
  {
   "cell_type": "code",
   "id": "0fbfe370-7022-48d1-b960-a2c8a2d6c65e",
   "metadata": {
    "scrolled": true
   },
   "source": [
    "df_h2 = h2_res.df_anomaly\n",
    "\n",
    "order = []\n",
    "for col1 in MODEL_LIST: \n",
    "    for col2 in df_h2.columns:\n",
    "        if col1 in col2:\n",
    "            order.append(col2)\n",
    "df_h2 = df_h2[order]\n",
    "\n",
    "#print(df_h2)\n",
    "\n",
    "tab_df_h2 = make_latex_table(df_h2, decimals=3)\n",
    "print(tab_df_h2)"
   ],
   "outputs": [],
   "execution_count": null
  },
  {
   "cell_type": "markdown",
   "id": "ecbacda5be22344",
   "metadata": {
    "collapsed": false,
    "jupyter": {
     "outputs_hidden": false
    }
   },
   "source": [
    " ## H3 Allocating Anomaly root causes with MNNs\n",
    "\n",
    "Evaluating the ability of detecting individual anomalies, and the root cause anomaly. "
   ]
  },
  {
   "cell_type": "code",
   "id": "23f506ca-38b0-4a0b-8417-f5bddbb2b82b",
   "metadata": {},
   "source": [
    "h3_res = H3(results_dict=RESULTS.glob_res)\n",
    "df_h3_res = h3_res.df\n",
    "\n",
    "order = []\n",
    "for col1 in MODEL_LIST: \n",
    "    for col2 in df_h3_res.columns:\n",
    "        if col1 in col2:\n",
    "            order.append(col2)\n",
    "df_h3_res = df_h3_res[order]"
   ],
   "outputs": [],
   "execution_count": null
  },
  {
   "cell_type": "code",
   "id": "6bad0856-0ab4-43b8-b1d9-5f0fe02f5551",
   "metadata": {},
   "source": [
    "df_h3 = df_h3_res\n",
    "\n",
    "order = []\n",
    "for col1 in MODEL_LIST: \n",
    "    for col2 in df_h3.columns:\n",
    "        if col1 in col2:\n",
    "            order.append(col2)\n",
    "df_h3 = df_h3[order]\n",
    "\n",
    "tab_df_h3 = make_latex_table(df_h3, decimals=4)\n",
    "print(tab_df_h3)"
   ],
   "outputs": [],
   "execution_count": null
  }
 ],
 "metadata": {
  "kernelspec": {
   "display_name": "Python 3 (ipykernel)",
   "language": "python",
   "name": "python3"
  },
  "language_info": {
   "codemirror_mode": {
    "name": "ipython",
    "version": 3
   },
   "file_extension": ".py",
   "mimetype": "text/x-python",
   "name": "python",
   "nbconvert_exporter": "python",
   "pygments_lexer": "ipython3",
   "version": "3.11.5"
  }
 },
 "nbformat": 4,
 "nbformat_minor": 5
}
